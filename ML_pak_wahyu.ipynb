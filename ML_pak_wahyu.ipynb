{
  "nbformat": 4,
  "nbformat_minor": 0,
  "metadata": {
    "colab": {
      "provenance": [],
      "authorship_tag": "ABX9TyOJS7iPWqR3yfYWt7ttGsRJ",
      "include_colab_link": true
    },
    "kernelspec": {
      "name": "python3",
      "display_name": "Python 3"
    },
    "language_info": {
      "name": "python"
    }
  },
  "cells": [
    {
      "cell_type": "markdown",
      "metadata": {
        "id": "view-in-github",
        "colab_type": "text"
      },
      "source": [
        "<a href=\"https://colab.research.google.com/github/PrakasaBima/pembelajaran_mesin_Bima-Prakasa_2211533001/blob/main/ML_pak_wahyu.ipynb\" target=\"_parent\"><img src=\"https://colab.research.google.com/assets/colab-badge.svg\" alt=\"Open In Colab\"/></a>"
      ]
    },
    {
      "cell_type": "code",
      "execution_count": 3,
      "metadata": {
        "id": "nWNrfPSh--Zl"
      },
      "outputs": [],
      "source": [
        "import pandas as pd\n",
        "import numpy as np\n",
        "import sklearn as svm\n",
        "\n",
        "import matplotlib.pyplot as plt\n",
        "# import seaborn as sns; sns.set(font scale = 1.2)\n",
        "\n",
        "%matplotlib inline\n",
        "\n",
        "import pickle"
      ]
    }
  ]
}